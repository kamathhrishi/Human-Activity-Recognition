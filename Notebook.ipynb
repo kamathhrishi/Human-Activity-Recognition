{
  "cells": [
    {
      "metadata": {
        "_cell_guid": "4b6f0fa0-6a0c-453f-8ca9-6f0bcf225089",
        "_uuid": "7f87e23450193b407c8c65e3ddec4ac27b373fc2",
        "trusted": true
      },
      "cell_type": "code",
      "source": "import numpy as np # linear algebra\nimport pandas as pd # data processing, CSV file I/O (e.g. pd.read_csv)\nimport matplotlib.pyplot as plt\n\nfrom subprocess import check_output\nprint(check_output([\"ls\", \"../input\"]).decode(\"utf8\"))",
      "execution_count": 13,
      "outputs": [
        {
          "output_type": "stream",
          "text": "test.csv\ntrain.csv\n\n",
          "name": "stdout"
        }
      ]
    },
    {
      "metadata": {
        "_cell_guid": "1a2e04ae-9cf5-403c-892d-90d75bc44bcf",
        "_uuid": "8f4e1f23fa90b9c6158096a07e47a4cf91e4bc2f",
        "trusted": true
      },
      "cell_type": "code",
      "source": "Train_Data=pd.read_csv(\"../input/train.csv\")\nTest_Data=pd.read_csv(\"../input/test.csv\")",
      "execution_count": 14,
      "outputs": []
    },
    {
      "metadata": {
        "_cell_guid": "aeb4bef3-a67c-464b-aba3-dd62a9e008b4",
        "_uuid": "ca89079f65e0c325a7b423b8f366b5278f3f8955"
      },
      "cell_type": "markdown",
      "source": "<h1>Exploratory Analysis </h2>"
    },
    {
      "metadata": {
        "_cell_guid": "481cc2c3-7ed5-497f-8d63-d0a21645bae8",
        "_uuid": "b09a6dbe0c3723c53dc535ea39d2b7e4d0ab6e37",
        "trusted": true
      },
      "cell_type": "code",
      "source": "len(Train_Data)",
      "execution_count": null,
      "outputs": []
    },
    {
      "metadata": {
        "_cell_guid": "b81e0a79-85ad-4132-bb3e-c9fa0263a4c3",
        "_uuid": "a7a0054f22e29bafbf958ba518929884e9c8abbd",
        "trusted": true
      },
      "cell_type": "code",
      "source": "len(Test_Data)",
      "execution_count": null,
      "outputs": []
    },
    {
      "metadata": {
        "_cell_guid": "9c7bf088-ea35-4865-8e41-f44949112901",
        "_uuid": "23f6bb6aec5e498fba22ee94bcdc8f88b826bed3"
      },
      "cell_type": "markdown",
      "source": "Let us train and test our model using the Training Data and perform final validation on the given test data. "
    },
    {
      "metadata": {
        "_cell_guid": "17504d73-bc1c-47fd-9821-8b5c01408486",
        "_uuid": "e1c1b0d13c98b657c530d3c17bfa7002aa2b96b1",
        "trusted": true
      },
      "cell_type": "code",
      "source": "Train_Data.sample(frac=0.1).head(n=5)",
      "execution_count": null,
      "outputs": []
    },
    {
      "metadata": {
        "_cell_guid": "092e3a15-dde7-4d14-8161-51a90a4b6a20",
        "_uuid": "049ecc1902e3d768d5911e0e501dc3dd36acc0f1",
        "trusted": true
      },
      "cell_type": "code",
      "source": "Train_Data.describe()",
      "execution_count": null,
      "outputs": []
    },
    {
      "metadata": {
        "_cell_guid": "46d8926c-0683-4708-a087-69f649adaefe",
        "_uuid": "fab47a0557fac463ff72114ba37bf69fc9266a25"
      },
      "cell_type": "markdown",
      "source": "The below lists the variables in the dataset. "
    },
    {
      "metadata": {
        "_cell_guid": "d406cc50-0df5-4368-a634-e84fa43a368e",
        "_uuid": "db35c84dd15d1212c0f49d42568b6d5501725f06",
        "trusted": true
      },
      "cell_type": "code",
      "source": "list(Train_Data.columns.values)",
      "execution_count": null,
      "outputs": []
    },
    {
      "metadata": {
        "_cell_guid": "f989c7f7-6bd6-4f10-9dae-645faf92b543",
        "_uuid": "f846cdc99efde962ba641a4ed1b3ca51a83c7a83"
      },
      "cell_type": "markdown",
      "source": "<h1>Pre-Processing </h1>"
    },
    {
      "metadata": {
        "_cell_guid": "178fce0d-8e8f-43ad-9d62-5aac31a62ab4",
        "_uuid": "6cec1cf81ef4a877476c5cf03bc0038b3dac0afe"
      },
      "cell_type": "markdown",
      "source": "The activities are in the form of text which cannot be used directly as input features for machine learning algorithms So ,  convert them to categorical numerical data."
    },
    {
      "metadata": {
        "_cell_guid": "c184d70b-52e0-4893-86cd-aec918c70680",
        "_uuid": "d8d2410b7f3c5ceb897c915e131aa442864742b6",
        "trusted": true
      },
      "cell_type": "code",
      "source": "#Split the Data for machine learning algorithms\n\ndef Featurize_Outcome(Data):\n    \n        '''The activity variable is in the form of strings , which cannot be directly given as input to the algorithm , \n        for the purpose we will convert them to numerical features'''\n        \n        Labels=[]\n        Key={}\n\n        Prev=None\n        Index=0\n\n        for i in Data:\n        \n                    if(i in Key):\n\n                         Labels.append(Key[i])\n        \n                    else:\n        \n                         Key[i]=Index\n                         Labels.append(Key[i])\n                         Index+=1\n                    \n        return(Labels)\n    \nTrain_Data_X=Train_Data\nTrain_Data_Y=Train_Data['Activity']\nTrain_Data_Y=Featurize_Outcome(Train_Data_Y)\nTrain_Data_X.drop('Activity',axis=1,inplace=True)\n\nTest_Data_X=Test_Data\nTest_Data_Y=Test_Data['Activity']\nTest_Data_Y=Featurize_Outcome(Test_Data_Y)\nTest_Data_X.drop('Activity',axis=1,inplace=True)\n",
      "execution_count": 15,
      "outputs": []
    },
    {
      "metadata": {
        "_cell_guid": "aab43b8d-de87-4336-904b-0db80d7f130c",
        "_uuid": "3f75663ba68c9ea60ecfd490ebad54f20b8a1a9d"
      },
      "cell_type": "markdown",
      "source": "<h2>Learning Algorithms (Original Dataset)</h2>"
    },
    {
      "metadata": {
        "_cell_guid": "60eb6a8f-9fa3-4140-8691-e2523b5886f8",
        "_uuid": "4200f6246a6047fa80134f39637ba559f16129c9",
        "trusted": true
      },
      "cell_type": "code",
      "source": "#Importing required libraries for developing machine learning models\n\nfrom sklearn import svm\nfrom sklearn.neighbors import KNeighborsClassifier\nfrom sklearn.naive_bayes import GaussianNB\nfrom sklearn.metrics import confusion_matrix\nfrom sklearn.metrics import classification_report\nfrom sklearn.ensemble import AdaBoostClassifier\nfrom sklearn.model_selection import cross_val_score\nfrom sklearn import tree\nfrom sklearn.svm import LinearSVC\nfrom sklearn.feature_selection import SelectFromModel",
      "execution_count": 25,
      "outputs": [
        {
          "output_type": "stream",
          "text": "/opt/conda/lib/python3.6/site-packages/sklearn/ensemble/weight_boosting.py:29: DeprecationWarning: numpy.core.umath_tests is an internal NumPy module and should not be imported. It will be removed in a future NumPy release.\n  from numpy.core.umath_tests import inner1d\n",
          "name": "stderr"
        }
      ]
    },
    {
      "metadata": {
        "_cell_guid": "82bb31e6-835d-4bad-a393-5ba8d006f8d5",
        "_uuid": "886ea880acc443f66ab91af97485577a3976f0d4",
        "trusted": true,
        "scrolled": true
      },
      "cell_type": "code",
      "source": "from sklearn.ensemble import RandomForestClassifier\nRf=RandomForestClassifier()\nprint(\"Accuracy: \",cross_val_score(Rf,Train_Data_X,Train_Data_Y, cv=5).mean())",
      "execution_count": null,
      "outputs": []
    },
    {
      "metadata": {
        "_cell_guid": "e9ef005a-be15-45f0-87ce-1fb7c7c41220",
        "_uuid": "3ee300fc1f1eb9eaa50c2811f017d65c76cae98f",
        "trusted": true,
        "scrolled": true
      },
      "cell_type": "code",
      "source": "gNB=GaussianNB()\nscores=cross_val_score(gNB,Train_Data_X,Train_Data_Y, cv=5)\nprint(\"Accuracy: \",scores.mean())",
      "execution_count": null,
      "outputs": []
    },
    {
      "metadata": {
        "_cell_guid": "54768b52-05d6-434a-9145-74a18723d3c0",
        "_uuid": "5c75be242361246506b0df9f60c48b34dd9b0108",
        "trusted": true
      },
      "cell_type": "code",
      "source": "cl=tree.DecisionTreeClassifier()\nprint(\"Accuracy: \",cross_val_score(cl,Train_Data_X,Train_Data_Y,cv=5).mean())",
      "execution_count": null,
      "outputs": []
    },
    {
      "metadata": {
        "_cell_guid": "e9057922-c4e1-4c87-97b0-ea1511ccb63f",
        "_uuid": "1fe660f0b83ccabb4f11aeddd1b84750eb582902",
        "trusted": true
      },
      "cell_type": "code",
      "source": "clf=svm.SVC(kernel='rbf')\nprint(\"Accuracy: \",cross_val_score(clf,Train_Data_X,Train_Data_Y, cv=5).mean())",
      "execution_count": null,
      "outputs": []
    },
    {
      "metadata": {
        "_cell_guid": "187a760c-791e-4b04-b5bc-b21b5ea028f4",
        "_uuid": "680421283fb6313d487c65e192b0e8e10d1e7fab",
        "trusted": true
      },
      "cell_type": "code",
      "source": "clf=svm.SVC(kernel='linear')\nprint(\"Accuracy: \",cross_val_score(clf,Train_Data_X,Train_Data_Y, cv=5).mean())",
      "execution_count": null,
      "outputs": []
    },
    {
      "metadata": {
        "_cell_guid": "cd3bbaef-f18c-4425-b161-013c545fedcf",
        "_uuid": "fb8e5b88b5829512d94428fdb94d5e367d7b22b6",
        "trusted": true
      },
      "cell_type": "code",
      "source": "scores=[]\nfor i in range(1,31):\n    neigh=KNeighborsClassifier(n_neighbors=i)\n    scores.append(cross_val_score(neigh,Train_Data_X,Train_Data_Y,cv=5).mean())\n    \nmax_a=0\nk_max=0\n\nfor i in range(0,30):\n    \n    if(scores[i]>=max_a):\n        \n        max_a=scores[i]\n        \n        if(i>k_max):\n                \n            k_max=i\n        \nprint(\"K is maximum in Knn for \",k_max,\" with a accuracy of \",max_a) ",
      "execution_count": null,
      "outputs": []
    },
    {
      "metadata": {
        "_cell_guid": "a1b0d667-8b68-4369-9ade-250eab689f61",
        "_uuid": "be85132fe1a3ed465757fa45f4b73dee37309d1e",
        "trusted": true
      },
      "cell_type": "code",
      "source": "AB=AdaBoostClassifier()\nprint(\"Accuracy: \",cross_val_score(AB,Train_Data_X,Train_Data_Y, cv=5).mean())",
      "execution_count": null,
      "outputs": []
    },
    {
      "metadata": {
        "_cell_guid": "6171a44c-dc94-4346-b832-d271179b8def",
        "_uuid": "a0ab8d0682769ac7ee9eaf5eb1bdbbac016db745"
      },
      "cell_type": "markdown",
      "source": "<h2>Learning Algorithms (Dataset with Feature Selection Applied)</h2>"
    },
    {
      "metadata": {
        "_cell_guid": "e80ea394-6dde-413a-9c51-62f869af4855",
        "_uuid": "85c2186f93c46da660801bdeb36c1a21dda2dcfe"
      },
      "cell_type": "markdown",
      "source": "There are 563 columns of data which could be time consuming to train and could possibly lead to overfitting. It could possibly help to use Dimensionality reduction and feature selection algorithms.  Lets apply various feature elimination methods to Support Vector Machine with Linear Kernel."
    },
    {
      "metadata": {
        "_cell_guid": "7dae94d6-2067-4c36-bfa7-bbb22e5d69dc",
        "_uuid": "3bb33c4dac5c39b1daa8e9b0e1cf44d23edf2bd4"
      },
      "cell_type": "markdown",
      "source": "<h2>Feature Elimination Based on Variance</h2>"
    },
    {
      "metadata": {
        "_cell_guid": "cb54efac-d6b8-4179-aa13-1ce43b38f121",
        "_uuid": "7db20ada832def7b84defe95fe305746ea4504d6",
        "trusted": true
      },
      "cell_type": "code",
      "source": "#Import the requird library required for feature elimination based on variance. \nfrom sklearn.feature_selection import VarianceThreshold",
      "execution_count": null,
      "outputs": []
    },
    {
      "metadata": {
        "_cell_guid": "d6d86caf-4915-45e1-ae7d-e0e1c80baad7",
        "_uuid": "824d0835efaf594dcc0f8b64d6e51995eb7f198f",
        "trusted": true
      },
      "cell_type": "code",
      "source": "sel=VarianceThreshold(.9 * (1 - .9))\nFS_Train_Data_X=sel.fit_transform(Train_Data_X)",
      "execution_count": null,
      "outputs": []
    },
    {
      "metadata": {
        "_cell_guid": "1008608e-8b69-4f90-83b2-4cf3e23ed818",
        "_uuid": "8dfcf968ca77ea826086f3aa0039a855f83587d5",
        "trusted": true
      },
      "cell_type": "code",
      "source": "FS_Train_Data_X.shape",
      "execution_count": null,
      "outputs": []
    },
    {
      "metadata": {
        "_cell_guid": "b9075e9c-2152-4809-abfb-06219b6aec40",
        "_uuid": "704473fbaa6e60fe5699ff77fb3f15b02826b95e"
      },
      "cell_type": "markdown",
      "source": "The number of relevant features are reduced from 562 to 212 upon eliminating features based on variance. "
    },
    {
      "metadata": {
        "_cell_guid": "11be6f92-69f3-4931-8745-5a2f1b68fd04",
        "_uuid": "5e512cd387bc71ab0d167b731d00faa3f40fbf6b",
        "trusted": true
      },
      "cell_type": "code",
      "source": "clf=svm.SVC(kernel='linear')\nprint(\"Accuracy: \",cross_val_score(clf,FS_Train_Data_X,Train_Data_Y, cv=5).mean())",
      "execution_count": null,
      "outputs": []
    },
    {
      "metadata": {
        "_cell_guid": "86b16ec9-13f9-4091-b95c-5ff9afb4523b",
        "_uuid": "28bd1adce9f895dc7c030b8b521850b224f10b43"
      },
      "cell_type": "markdown",
      "source": "From the above it could be noted that the there is a fall in accuracy upon feature elimination based on low variance. Lets try recursive feature elimination which involves a exhaustive search of best features using recursion."
    },
    {
      "metadata": {
        "_cell_guid": "ec1f782c-c0df-4a9e-81bc-41ea6b4c6281",
        "_uuid": "453a549961b84ffe3720d7c89de78366d1358107"
      },
      "cell_type": "markdown",
      "source": "<h2>Recursive Feature Elimination</h2>"
    },
    {
      "metadata": {
        "_cell_guid": "4fb8683a-3242-4c95-9eaa-1ac5cc7307a5",
        "_uuid": "7e65982157b95f97e631da0073c88be9d6d753e8",
        "trusted": true
      },
      "cell_type": "code",
      "source": "from sklearn.feature_selection import RFECV\nfrom sklearn.model_selection import StratifiedKFold",
      "execution_count": null,
      "outputs": []
    },
    {
      "metadata": {
        "_cell_guid": "2982972d-f146-49aa-9a6b-df473402ff9c",
        "_uuid": "98f09570ea185445c90b39669da68893d6a529ff",
        "trusted": true
      },
      "cell_type": "code",
      "source": "clf=svm.SVC(kernel='linear')\nrfecv = RFECV(estimator=clf, step=1, cv=StratifiedKFold(2),\n              scoring='accuracy')\nrfecv.fit(Train_Data_X,Train_Data_Y)",
      "execution_count": null,
      "outputs": []
    },
    {
      "metadata": {
        "_cell_guid": "2b9b1e7a-a754-45b3-91de-222c7c3b96ad",
        "_uuid": "a8dc1ae639bfdba9133bd53e94a8f3bbd5bb2fc9",
        "trusted": false
      },
      "cell_type": "code",
      "source": "print(\"Optimal number of features : %d\" % rfecv.n_features_)\n# Plot number of features VS. cross-validation scores\nplt.figure()\nplt.xlabel(\"Number of features selected\")\nplt.ylabel(\"Cross validation score (nb of correct classifications)\")\nplt.plot(range(1, len(rfecv.grid_scores_) + 1), rfecv.grid_scores_)\nplt.show()",
      "execution_count": null,
      "outputs": []
    },
    {
      "metadata": {
        "_cell_guid": "3ddc11dc-ec84-4cbb-b706-24bfae4b0142",
        "_uuid": "a484f205d3f9f384095a4fe5756c76b75c30263b",
        "trusted": false
      },
      "cell_type": "code",
      "source": "print(max(rfecv.grid_scores_))",
      "execution_count": null,
      "outputs": []
    },
    {
      "metadata": {
        "_cell_guid": "e95489a9-e465-430e-8b00-c2391d0b7195",
        "_uuid": "73579b7ee465528f5c60571ade1e76b9bb644395"
      },
      "cell_type": "markdown",
      "source": "Although eliminating features led to just a 1% improvement in accuracy , it could lead to a much simpler model making it less prone to overfitting. Let us evaluate the model on our final validation test set. "
    },
    {
      "metadata": {
        "collapsed": true,
        "_cell_guid": "ec782032-a620-4c05-9d0c-66eb14713f26",
        "_uuid": "71798672528230efb8e898a389b151519a655b46",
        "trusted": false
      },
      "cell_type": "code",
      "source": "print(\"Accuracy: \",cross_val_score(rfecv,Test_Data_X,Test_Data_Y,cv=5).mean())",
      "execution_count": null,
      "outputs": []
    },
    {
      "metadata": {
        "_cell_guid": "be7a46d5-ef69-4466-ac9f-004e14db401c",
        "_uuid": "cd4ea665e1a5b25bf313275fb783dacc66d08a03"
      },
      "cell_type": "markdown",
      "source": "From the above it could be noted that the algorithm peforms well even on the test set. "
    },
    {
      "metadata": {
        "_uuid": "3e0d2d2cf9802dd9b66f1d7f2f26db99898869a1"
      },
      "cell_type": "markdown",
      "source": "<h1>PCA Feature Representation</h1>"
    },
    {
      "metadata": {
        "trusted": true,
        "_uuid": "2be1cbbed93fd2818e173bb1af628274546e6953",
        "scrolled": true
      },
      "cell_type": "code",
      "source": "from sklearn.decomposition import PCA\nfrom sklearn.metrics import accuracy_score\nn_components=175",
      "execution_count": 65,
      "outputs": []
    },
    {
      "metadata": {
        "trusted": true,
        "_uuid": "b339e675bbe3edf40afb1d9d33af495944686cf2"
      },
      "cell_type": "code",
      "source": "pca_featurize = PCA(n_components=n_components, svd_solver='randomized',whiten=True).fit(Train_Data_X)",
      "execution_count": 60,
      "outputs": []
    },
    {
      "metadata": {
        "trusted": true,
        "scrolled": true,
        "_uuid": "bea41fd82a1b41647b1288112c7ef1cd445850a8"
      },
      "cell_type": "code",
      "source": "train_x_pca=pca_featurize.transform(Train_Data_X)\ntest_x_pca=pca_featurize.transform(Test_Data_X)",
      "execution_count": 61,
      "outputs": []
    },
    {
      "metadata": {
        "trusted": true,
        "_uuid": "957fa78bc2fcce11ebb3e69ce39a9c7af404ddc9"
      },
      "cell_type": "code",
      "source": "clf=svm.SVC(kernel='linear')\nclf.fit(train_x_pca,Train_Data_Y)\nprint(\"Accuracy: \",cross_val_score(clf,train_x_pca,Train_Data_Y, cv=5).mean())",
      "execution_count": 68,
      "outputs": [
        {
          "output_type": "stream",
          "text": "Accuracy:  0.935144187030138\n",
          "name": "stdout"
        }
      ]
    },
    {
      "metadata": {
        "trusted": true,
        "_uuid": "7a55b9419dc4c358b1bd79af69b515aceb758505"
      },
      "cell_type": "code",
      "source": "print(classification_report(Test_Data_Y,clf.predict(test_x_pca)))",
      "execution_count": 71,
      "outputs": [
        {
          "output_type": "stream",
          "text": "             precision    recall  f1-score   support\n\n          0       0.89      0.97      0.93       532\n          1       0.97      0.86      0.91       491\n          2       1.00      1.00      1.00       537\n          3       0.95      0.99      0.97       496\n          4       1.00      0.96      0.98       420\n          5       0.97      0.96      0.96       471\n\navg / total       0.96      0.96      0.96      2947\n\n",
          "name": "stdout"
        }
      ]
    },
    {
      "metadata": {
        "_uuid": "e8e2cd68142c4ba3782fe85c248fa6e4c0cd0245"
      },
      "cell_type": "markdown",
      "source": "<h1>Autoencoder Feature Representation</h1>"
    },
    {
      "metadata": {
        "trusted": true,
        "_uuid": "40b3e3518059c10916345e4c15d661f9b2854659"
      },
      "cell_type": "code",
      "source": "import tensorflow as tf\nimport matplotlib.pyplot as plt\nimport numpy as np",
      "execution_count": null,
      "outputs": []
    },
    {
      "metadata": {
        "trusted": true,
        "_uuid": "a9b5ccfac9357767906a2fbfe8d1c6877363c23e"
      },
      "cell_type": "code",
      "source": "X=tf.placeholder(tf.float32,[None,562])",
      "execution_count": null,
      "outputs": []
    },
    {
      "metadata": {
        "trusted": true,
        "_uuid": "3d88b2571bccad9e6ed658bfd0bae57b2c113824"
      },
      "cell_type": "code",
      "source": "#Encoder\n\nw1=tf.Variable(tf.truncated_normal([562,400],stddev=0.1))\nb1=tf.Variable(tf.constant(0.1,shape=[400]))\n\nl1=tf.nn.sigmoid(tf.add(tf.matmul(X,w1),b1))\n\nw2=tf.Variable(tf.truncated_normal(shape=[400,300],stddev=0.1))\nb2=tf.Variable(tf.constant(0.1,shape=[300]))\n\nl2=tf.nn.sigmoid(tf.add(tf.matmul(l1,w2),b2))\n\nw3=tf.Variable(tf.truncated_normal(shape=[300,200],stddev=0.1))\nb3=tf.Variable(tf.constant(0.1,shape=[200]))\n\nEncoded_Layer=tf.nn.relu(tf.add(tf.matmul(l2,w3),b3))",
      "execution_count": null,
      "outputs": []
    },
    {
      "metadata": {
        "trusted": true,
        "_uuid": "c95b85c54e99a9a7ebea08ecd10ea26803fda85d"
      },
      "cell_type": "code",
      "source": "#Decoder\n\nw4=tf.Variable(tf.truncated_normal(shape=[200,300],stddev=0.1))\nb4=tf.Variable(tf.constant(0.1,shape=[300]))\n\nl4=tf.nn.sigmoid(tf.add(tf.matmul(Encoded_Layer,w4),b4))\n\nw5=tf.Variable(tf.truncated_normal(shape=[300,400],stddev=0.1))\nb5=tf.Variable(tf.constant(0.1,shape=[400]))\n\nl5=tf.nn.sigmoid(tf.add(tf.matmul(l4,w5),b5))\n\nw6=tf.Variable(tf.truncated_normal(shape=[400,562],stddev=0.1))\nb6=tf.Variable(tf.constant(0.1,shape=[562]))\n\n#Output from decoder\n\ny=tf.add(tf.matmul(l5,w6),b6)",
      "execution_count": null,
      "outputs": []
    },
    {
      "metadata": {
        "trusted": true,
        "_uuid": "ddcf4eecdb0fd352beaf5664e7b6e0b91dee26af"
      },
      "cell_type": "code",
      "source": "#Loss Function\nloss=tf.reduce_sum(tf.pow(y-X,2))\ntrain_step=tf.train.AdamOptimizer(1e-5).minimize(loss)",
      "execution_count": null,
      "outputs": []
    },
    {
      "metadata": {
        "trusted": true,
        "_uuid": "5ef42d0a2549f8a2458b0d9a16d6f06b4e94b803"
      },
      "cell_type": "code",
      "source": "#Initialize and Run Tensorflow Session\n\nLoss=[]\n\nepoch_num=100\n\nbatch_no=0\nbatch_size=64\n\nmax_epoch=10\niters_num=100000\n\nloss_history=[]\n\ntrain_set_size=len(Train_Data_X)\n\nwith tf.Session() as sess:\n    \n    sess.run(tf.global_variables_initializer())\n    \n    for iters in range(0,iters_num):\n        \n           batch = Train_Data_X[batch_no:batch_no+batch_size]\n           sess.run(train_step,feed_dict={X:batch})\n        \n           if((batch_no+batch_size)<train_set_size):\n                    \n                    batch_no+=batch_size\n                    \n           else:\n            \n                    batch_no=0\n                    loss_no=sess.run(loss,feed_dict={X:Train_Data_X})\n                    print(loss_no)\n                    loss_history.append(loss_no)\n                    plt.plot(loss_history)\n                    plt.show()\n                \n            ",
      "execution_count": null,
      "outputs": []
    }
  ],
  "metadata": {
    "kernelspec": {
      "display_name": "Python 3",
      "language": "python",
      "name": "python3"
    },
    "language_info": {
      "name": "python",
      "version": "3.6.6",
      "mimetype": "text/x-python",
      "codemirror_mode": {
        "name": "ipython",
        "version": 3
      },
      "pygments_lexer": "ipython3",
      "nbconvert_exporter": "python",
      "file_extension": ".py"
    }
  },
  "nbformat": 4,
  "nbformat_minor": 1
}